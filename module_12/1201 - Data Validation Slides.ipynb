{
 "cells": [
  {
   "cell_type": "markdown",
   "metadata": {
    "slideshow": {
     "slide_type": "slide"
    }
   },
   "source": [
    "## Data Validation"
   ]
  },
  {
   "cell_type": "markdown",
   "metadata": {
    "slideshow": {
     "slide_type": "slide"
    }
   },
   "source": [
    "### Data Validation in the Wild\n",
    "<br/>\n",
    "<center>\n",
    "<img src=\"john_lewis_age.png\" />\n",
    "</center>"
   ]
  },
  {
   "cell_type": "markdown",
   "metadata": {
    "slideshow": {
     "slide_type": "slide"
    }
   },
   "source": [
    "## Data Errors are Costly\n",
    "<center>\n",
    "<img src=\"errors_sanity_check_survey.png\" />\n",
    "</center>\n",
    "\n",
    "#### Towards Reliable Interactive Data Cleaning: A User Survey and Recommendations \n",
    "#### Sanjay Krishnan, Daniel Haas, Michael J. Franklin, 2016"
   ]
  },
  {
   "cell_type": "markdown",
   "metadata": {
    "slideshow": {
     "slide_type": "slide"
    }
   },
   "source": [
    "## Data Validation is Hard\n",
    "<center>\n",
    "<img src=\"survey_no_validation.png\" />\n",
    "</center>\n",
    "\n",
    "#### Towards Reliable Interactive Data Cleaning: A User Survey and Recommendations \n",
    "#### Sanjay Krishnan, Daniel Haas, Michael J. Franklin, 2016\n"
   ]
  }
 ],
 "metadata": {
  "celltoolbar": "Slideshow",
  "kernelspec": {
   "display_name": "Python 3",
   "language": "python",
   "name": "python3"
  },
  "language_info": {
   "codemirror_mode": {
    "name": "ipython",
    "version": 3
   },
   "file_extension": ".py",
   "mimetype": "text/x-python",
   "name": "python",
   "nbconvert_exporter": "python",
   "pygments_lexer": "ipython3",
   "version": "3.6.1"
  }
 },
 "nbformat": 4,
 "nbformat_minor": 2
}

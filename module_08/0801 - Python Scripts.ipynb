{
 "cells": [
  {
   "cell_type": "markdown",
   "metadata": {
    "slideshow": {
     "slide_type": "slide"
    }
   },
   "source": [
    "## Proper Python Scripts\n",
    "\n",
    "### How to write proper Python scripts using PEP-8 and documentation"
   ]
  },
  {
   "cell_type": "markdown",
   "metadata": {
    "slideshow": {
     "slide_type": "slide"
    }
   },
   "source": [
    "### What structures should I follow?\n",
    "\n",
    "### How do I add documentation?\n",
    "\n",
    "### Are there best practices? "
   ]
  },
  {
   "cell_type": "markdown",
   "metadata": {
    "slideshow": {
     "slide_type": "slide"
    }
   },
   "source": [
    "### Best Practices for Python files / scripts"
   ]
  },
  {
   "cell_type": "markdown",
   "metadata": {
    "slideshow": {
     "slide_type": "fragment"
    }
   },
   "source": [
    "- Add a UTF-8 Header (see: [PEP 263](https://www.python.org/dev/peps/pep-0263/))"
   ]
  },
  {
   "cell_type": "markdown",
   "metadata": {
    "slideshow": {
     "slide_type": "fragment"
    }
   },
   "source": [
    "- Script documentation / license and author information up top (see: [Napolean example numpy script](http://sphinxcontrib-napoleon.readthedocs.io/en/latest/example_numpy.html#example-numpy))"
   ]
  },
  {
   "cell_type": "markdown",
   "metadata": {
    "slideshow": {
     "slide_type": "fragment"
    }
   },
   "source": [
    "- Ordered Imports (see: [StackOverflow Question on PyLint](https://stackoverflow.com/questions/22722976/import-order-coding-standard))"
   ]
  },
  {
   "cell_type": "markdown",
   "metadata": {
    "slideshow": {
     "slide_type": "fragment"
    }
   },
   "source": [
    "- Use docstrings for all code (see: [Napolean example numpy script](http://sphinxcontrib-napoleon.readthedocs.io/en/latest/example_numpy.html#example-numpy) and [Napolean example google script](http://sphinxcontrib-napoleon.readthedocs.io/en/latest/example_google.html#example-google))"
   ]
  },
  {
   "cell_type": "markdown",
   "metadata": {
    "slideshow": {
     "slide_type": "fragment"
    }
   },
   "source": [
    "- If needed, a `if __name__ == '__main__':` section with proper parameter arguments (see: [argparse](https://docs.python.org/3/library/argparse.html))"
   ]
  },
  {
   "cell_type": "code",
   "execution_count": null,
   "metadata": {
    "collapsed": true
   },
   "outputs": [],
   "source": []
  }
 ],
 "metadata": {
  "celltoolbar": "Slideshow",
  "kernelspec": {
   "display_name": "Python 3",
   "language": "python",
   "name": "python3"
  },
  "language_info": {
   "codemirror_mode": {
    "name": "ipython",
    "version": 3
   },
   "file_extension": ".py",
   "mimetype": "text/x-python",
   "name": "python",
   "nbconvert_exporter": "python",
   "pygments_lexer": "ipython3",
   "version": "3.6.1"
  }
 },
 "nbformat": 4,
 "nbformat_minor": 2
}

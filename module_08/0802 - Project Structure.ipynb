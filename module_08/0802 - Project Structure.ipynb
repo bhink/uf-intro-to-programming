{
 "cells": [
  {
   "cell_type": "markdown",
   "metadata": {
    "slideshow": {
     "slide_type": "slide"
    }
   },
   "source": [
    "## Structuring your Python Project"
   ]
  },
  {
   "cell_type": "raw",
   "metadata": {
    "slideshow": {
     "slide_type": "slide"
    }
   },
   "source": [
    "data_analysis/\n",
    "|-- data/\n",
    "|     | -- README.md\n",
    "|     | -- inputfile.csv\n",
    "|     + -- outputfile.csv\n",
    "|-- notebooks/\n",
    "|     | -- Data Exploration.ipynb\n",
    "|     + -- Data Extraction.ipynb\n",
    "|-- utils/\n",
    "|     | -- __init__.py\n",
    "|     + -- database.py\n",
    "|-- README.md\n",
    "|-- AUTHORS\n",
    "+-- LICENSE\n"
   ]
  },
  {
   "cell_type": "markdown",
   "metadata": {
    "slideshow": {
     "slide_type": "subslide"
    }
   },
   "source": [
    "[GitHub: Choosing a License](https://github.com/blog/1530-choosing-an-open-source-license)"
   ]
  },
  {
   "cell_type": "markdown",
   "metadata": {
    "slideshow": {
     "slide_type": "slide"
    }
   },
   "source": [
    "## More tips? Take a look @ [cookiecutter](https://cookiecutter.readthedocs.io/en/latest/) or the [data science cookiecutter](https://drivendata.github.io/cookiecutter-data-science/)"
   ]
  }
 ],
 "metadata": {
  "celltoolbar": "Slideshow",
  "kernelspec": {
   "display_name": "Python 3",
   "language": "python",
   "name": "python3"
  },
  "language_info": {
   "codemirror_mode": {
    "name": "ipython",
    "version": 3
   },
   "file_extension": ".py",
   "mimetype": "text/x-python",
   "name": "python",
   "nbconvert_exporter": "python",
   "pygments_lexer": "ipython3",
   "version": "3.6.1"
  }
 },
 "nbformat": 4,
 "nbformat_minor": 2
}

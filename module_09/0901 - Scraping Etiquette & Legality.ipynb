{
 "cells": [
  {
   "cell_type": "markdown",
   "metadata": {
    "slideshow": {
     "slide_type": "slide"
    }
   },
   "source": [
    "### Scraping Etiquette and Legality"
   ]
  },
  {
   "cell_type": "markdown",
   "metadata": {
    "slideshow": {
     "slide_type": "slide"
    }
   },
   "source": [
    "| Case                                                             | Outcome                                                                           |\n",
    "|------------------------------------------------------------------|-----------------------------------------------------------------------------------|\n",
    "| Feist Publications, Inc. v. Rural Telephone Service Co           | Scraping and republishing facts, such as telephone listings, allowed (in US)      |\n",
    "| Telstra Corporation Limited v. Phone Directories Company Pty Ltd | Only data with an identifiable author can be copyrighted (Australia)              |\n",
    "| Associated Press v. Meltwater                                    | Reuse of AP stories for an aggregated news product is violation of copyright (US) |\n",
    "| ofir.dk vs home.dk                                               | Regular crawling and deep linking permitted (EU)                                  |\n",
    "| QVC v. Resultly                                                  | Only intentional harm if scraping resulted in private property damage (US)        |"
   ]
  },
  {
   "cell_type": "markdown",
   "metadata": {
    "slideshow": {
     "slide_type": "slide"
    }
   },
   "source": [
    "### Read more:\n",
    "\n",
    "- [Feist Publications Inc. v. Rural Telephone Service Co.](http://caselaw.lp.findlaw.com/scripts/getcase.pl?court=US&vol=499&invol=340)\n",
    "- [Telstra Corporation Limited v. Phone Directories Company Pvt Ltd](http://www.austlii.edu.au/au/cases/cth/FCA/2010/44.html)\n",
    "- [Associated Press v.Meltwater](http://www.nysd.uscourts.gov/cases/show.php?db=special&id=279)\n",
    "- [ofir.dk vs home.dk](http://www.bvhd.dk/uploads/tx_mocarticles/S_-_og_Handelsrettens_afg_relse_i_Ofir-sagen.pdf)\n",
    "- [QVC v. Resultly](https://www.paed.uscourts.gov/documents/opinions/16D0129P.pdf)"
   ]
  },
  {
   "cell_type": "markdown",
   "metadata": {
    "slideshow": {
     "slide_type": "slide"
    }
   },
   "source": [
    "## Tips for Web Scraping"
   ]
  },
  {
   "cell_type": "markdown",
   "metadata": {
    "slideshow": {
     "slide_type": "fragment"
    }
   },
   "source": [
    "- Follow the `robots.txt` recommendations ([About robots.txt](http://www.robotstxt.org/robotstxt.html))"
   ]
  },
  {
   "cell_type": "markdown",
   "metadata": {
    "slideshow": {
     "slide_type": "fragment"
    }
   },
   "source": [
    "- Scrape politely and slowly"
   ]
  },
  {
   "cell_type": "markdown",
   "metadata": {
    "slideshow": {
     "slide_type": "fragment"
    }
   },
   "source": [
    "- Identify yourself and respond to any requests for information or to stop scraping"
   ]
  },
  {
   "cell_type": "markdown",
   "metadata": {
    "slideshow": {
     "slide_type": "fragment"
    }
   },
   "source": [
    "- Justify your use"
   ]
  }
 ],
 "metadata": {
  "celltoolbar": "Slideshow",
  "kernelspec": {
   "display_name": "Python 3",
   "language": "python",
   "name": "python3"
  },
  "language_info": {
   "codemirror_mode": {
    "name": "ipython",
    "version": 3
   },
   "file_extension": ".py",
   "mimetype": "text/x-python",
   "name": "python",
   "nbconvert_exporter": "python",
   "pygments_lexer": "ipython3",
   "version": "3.6.1"
  }
 },
 "nbformat": 4,
 "nbformat_minor": 2
}

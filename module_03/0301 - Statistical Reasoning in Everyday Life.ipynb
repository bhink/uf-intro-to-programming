{
 "cells": [
  {
   "cell_type": "markdown",
   "metadata": {
    "slideshow": {
     "slide_type": "slide"
    }
   },
   "source": [
    "## Statistical Reasoning in Everyday Life\n",
    "\n",
    "#### Module Two, Introduction to Programming\n",
    "#### Instructor: Katharine Jarmul"
   ]
  },
  {
   "cell_type": "markdown",
   "metadata": {
    "slideshow": {
     "slide_type": "slide"
    }
   },
   "source": [
    "<center>\n",
    "    <img src=\"http://assets.amuniversal.com/a87892a06cb801301d46001dd8b71c47\" />\n",
    "</center>\n",
    "\n",
    "Source: https://stats.stackexchange.com/questions/423/what-is-your-favorite-data-analysis-cartoon"
   ]
  },
  {
   "cell_type": "markdown",
   "metadata": {
    "slideshow": {
     "slide_type": "slide"
    }
   },
   "source": [
    "## Everyday Statistics\n",
    "\n",
    "- Average spend (budgeting)\n",
    "- Normal commute time\n",
    "- Election results \n",
    "- House prices in your area\n",
    "- Average hours of sleep\n",
    "- Minimum steps in a day\n"
   ]
  },
  {
   "cell_type": "markdown",
   "metadata": {
    "slideshow": {
     "slide_type": "slide"
    }
   },
   "source": [
    "## Statistics at Work\n",
    "\n",
    "- Click-thru Rate\n",
    "- Time on Page\n",
    "- Average Number of likes\n",
    "- Total Number of shares\n",
    "- User lifespan\n",
    "- Spend per user group\n"
   ]
  },
  {
   "cell_type": "markdown",
   "metadata": {
    "slideshow": {
     "slide_type": "slide"
    }
   },
   "source": [
    "## Statistics this Week\n",
    "\n",
    "- mean, median, mode\n",
    "- quartiles and interquartile range\n",
    "- detecting outliers\n",
    "- using data visualization"
   ]
  },
  {
   "cell_type": "markdown",
   "metadata": {
    "slideshow": {
     "slide_type": "slide"
    }
   },
   "source": [
    "<center>\n",
    "    <img src=\"https://i.stack.imgur.com/Vdqwt.png\" />\n",
    "</center>\n",
    "\n",
    "Source: http://xkcd.com/795/\n"
   ]
  }
 ],
 "metadata": {
  "celltoolbar": "Slideshow",
  "kernelspec": {
   "display_name": "Python 3",
   "language": "python",
   "name": "python3"
  },
  "language_info": {
   "codemirror_mode": {
    "name": "ipython",
    "version": 3
   },
   "file_extension": ".py",
   "mimetype": "text/x-python",
   "name": "python",
   "nbconvert_exporter": "python",
   "pygments_lexer": "ipython3",
   "version": "3.6.1"
  }
 },
 "nbformat": 4,
 "nbformat_minor": 2
}
